{
 "cells": [
  {
   "cell_type": "code",
   "execution_count": null,
   "id": "9940bbe7-baea-4cbd-bd40-c98acf6c2579",
   "metadata": {},
   "outputs": [],
   "source": [
    "import pandas as pd\n",
    "from neuralforecast import NeuralForecast\n",
    "from neuralforecast.models import NHITS, NBEATSx, DLinear, Autoformer, Informer, FEDformer\n",
    "from neuralforecast.losses.pytorch import MAPE\n",
    "\n",
    "def train_neuralforecast(df, target, date_column, test_start_date, horizon, lookback_window, hist_exog_list, futr_exog_list, index_column, epochs, granularity):\n",
    "    df['unique_id'] = df[index_column].astype(str)\n",
    "    df['y']         = df[target]\n",
    "    df['ds']        = pd.to_datetime(df[date_column])\n",
    "    df['ds']        = df['ds'].dt.to_period(granularity).dt.to_timestamp(granularity)\n",
    "\n",
    "    train_df = df[df['ds'] < test_start_date]\n",
    "    test_df  = df[df['ds'] >= test_start_date]\n",
    "\n",
    "    # Trim columns\n",
    "    features         = list(dict.fromkeys(['unique_id', 'ds', 'y'] + hist_exog_list + futr_exog_list))\n",
    "    train_df         = train_df[features]\n",
    "    test_df_original = test_df[['unique_id', 'ds', 'y'] + hist_exog_list]\n",
    "    test_df_input    = test_df[['unique_id', 'ds']      + futr_exog_list]\n",
    "\n",
    "    common_args = dict(\n",
    "                        h=horizon,\n",
    "                        input_size= lookback_window,\n",
    "                        loss=MAPE(),\n",
    "                        max_steps= epochs,\n",
    "                        scaler_type='robust'\n",
    "                        )\n",
    "    \n",
    "    models = [\n",
    "                NHITS(**common_args,   hist_exog_list=hist_exog_list, futr_exog_list=futr_exog_list),\n",
    "                NBEATSx(**common_args, hist_exog_list=hist_exog_list, futr_exog_list=futr_exog_list),\n",
    "                DLinear(**common_args),\n",
    "                Autoformer(**common_args, futr_exog_list=futr_exog_list),\n",
    "                Informer(**common_args,   futr_exog_list=futr_exog_list),\n",
    "                FEDformer(**common_args,  futr_exog_list=futr_exog_list)\n",
    "            ]\n",
    "\n",
    "    nf = NeuralForecast(models=models, freq=granularity)\n",
    "    nf.fit(df=train_df)\n",
    "    forecasts = nf.predict(futr_df=test_df_input)\n",
    "\n",
    "    results = forecasts.merge(test_df_original, on=['unique_id', 'ds'], how='left')\n",
    "\n",
    "    return results\n"
   ]
  }
 ],
 "metadata": {
  "kernelspec": {
   "display_name": "Python 3 (ipykernel)",
   "language": "python",
   "name": "python3"
  },
  "language_info": {
   "codemirror_mode": {
    "name": "ipython",
    "version": 3
   },
   "file_extension": ".py",
   "mimetype": "text/x-python",
   "name": "python",
   "nbconvert_exporter": "python",
   "pygments_lexer": "ipython3",
   "version": "3.11.8"
  }
 },
 "nbformat": 4,
 "nbformat_minor": 5
}
